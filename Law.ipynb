{
 "cells": [
  {
   "cell_type": "code",
   "execution_count": null,
   "metadata": {
    "colab": {
     "base_uri": "https://localhost:8080/"
    },
    "id": "qCHAEXavZOl6",
    "outputId": "db0d3a9a-031b-4529-fac4-1c39d130af07"
   },
   "outputs": [
    {
     "name": "stdout",
     "output_type": "stream",
     "text": [
      "Drive already mounted at /content/drive; to attempt to forcibly remount, call drive.mount(\"/content/drive\", force_remount=True).\n"
     ]
    }
   ],
   "source": [
    "from google.colab import drive\n",
    "drive.mount('/content/drive')"
   ]
  },
  {
   "cell_type": "code",
   "execution_count": 32,
   "metadata": {
    "id": "MjNzkPIFZPM7"
   },
   "outputs": [
    {
     "data": {
      "text/plain": [
       "['C:/Users/Rishabh/Downloads/Scrapped Data/Scrapped Data\\\\lawyersData_101_150.json',\n",
       " 'C:/Users/Rishabh/Downloads/Scrapped Data/Scrapped Data\\\\lawyersData_151_200.json',\n",
       " 'C:/Users/Rishabh/Downloads/Scrapped Data/Scrapped Data\\\\lawyersData_1_20.json',\n",
       " 'C:/Users/Rishabh/Downloads/Scrapped Data/Scrapped Data\\\\lawyersData_201_250.json',\n",
       " 'C:/Users/Rishabh/Downloads/Scrapped Data/Scrapped Data\\\\lawyersData_21_40.json',\n",
       " 'C:/Users/Rishabh/Downloads/Scrapped Data/Scrapped Data\\\\lawyersData_251_300.json',\n",
       " 'C:/Users/Rishabh/Downloads/Scrapped Data/Scrapped Data\\\\lawyersData_301_350.json',\n",
       " 'C:/Users/Rishabh/Downloads/Scrapped Data/Scrapped Data\\\\lawyersData_351_400.json',\n",
       " 'C:/Users/Rishabh/Downloads/Scrapped Data/Scrapped Data\\\\lawyersData_401_450.json',\n",
       " 'C:/Users/Rishabh/Downloads/Scrapped Data/Scrapped Data\\\\lawyersData_41_60.json',\n",
       " 'C:/Users/Rishabh/Downloads/Scrapped Data/Scrapped Data\\\\lawyersData_451_500.json',\n",
       " 'C:/Users/Rishabh/Downloads/Scrapped Data/Scrapped Data\\\\lawyersData_501_550.json',\n",
       " 'C:/Users/Rishabh/Downloads/Scrapped Data/Scrapped Data\\\\lawyersData_551_572.json',\n",
       " 'C:/Users/Rishabh/Downloads/Scrapped Data/Scrapped Data\\\\lawyersData_61_80.json',\n",
       " 'C:/Users/Rishabh/Downloads/Scrapped Data/Scrapped Data\\\\lawyersData_81_100.json']"
      ]
     },
     "execution_count": 32,
     "metadata": {},
     "output_type": "execute_result"
    }
   ],
   "source": [
    "import glob\n",
    "file_names = glob.glob(\"C:/Users/Rishabh/Downloads/Scrapped Data/Scrapped Data/*json\")\n",
    "file_names"
   ]
  },
  {
   "cell_type": "code",
   "execution_count": 33,
   "metadata": {
    "id": "lNrRQ2GVg4g0"
   },
   "outputs": [],
   "source": [
    "import pandas as pd\n",
    "# df = pd.DataFrame(columns=['Name', 'Experience', 'Location', 'Ratings', 'Ar 1', 'Ar 2','Ar 3'])"
   ]
  },
  {
   "cell_type": "code",
   "execution_count": 34,
   "metadata": {
    "id": "0AUTcbJxjOju"
   },
   "outputs": [],
   "source": [
    "def fetch_name(s):\n",
    "  return s[9:]\n",
    "def fetch_location(s):\n",
    "  return s.split(\", \")[-1]\n",
    "def fetch_experience(s):\n",
    "  try:\n",
    "    return int(s[:4])\n",
    "  except:\n",
    "    return int(s[:3])\n",
    "def fetch_practice_ar(ls):\n",
    "  res = [None]*3\n",
    "  ls = ls[0].split(\",\")[:-1]\n",
    "  for i in range(len(ls)):\n",
    "    ls[i] = ls[i].replace(\" \", \"_\")\n",
    "    if ls[i][0] == \"_\":\n",
    "      res[i] = ls[i][1:].lower()\n",
    "    else:\n",
    "      res[i] = ls[i].lower()\n",
    "  return res\n",
    "def fetch_ratings(s):\n",
    "  return float(s.split(\" \")[0])\n",
    "\n",
    "import random\n",
    "import numpy as np\n",
    "def get_random(n):\n",
    "  ls = [\n",
    "      'anticipatory_bail','arbitration','armed_forces_tribunal','banking_/_finance','bankruptcy_/_insolvency',\n",
    "      'breach_of_contract','cheque_bounce','child_custody','civil','consumer_court','corporate','court_marriage',\n",
    "      'criminal','customs_&_central_excise','cyber_crime','divorce','documentation','domestic_violence',\n",
    "      'family','gst','high_court','immigration','insurance','international_law','labour_&_service','landlord/tenant',\n",
    "      'media_and_entertainment','medical_negligence','motor_accident','muslim_law','nclt','patent','property',\n",
    "      'r.t.i','recovery','rera','startup','succession_certificate','supreme_court','tax','trademark_&_copyright',\n",
    "      'wills_/_trusts'\n",
    "      ]\n",
    "  new_Ar = random.sample(ls,n)\n",
    "  return new_Ar"
   ]
  },
  {
   "cell_type": "code",
   "execution_count": 35,
   "metadata": {
    "colab": {
     "base_uri": "https://localhost:8080/"
    },
    "id": "hNAUcfP3RLpJ",
    "outputId": "00a016e0-af0b-4fb3-de1d-bde250fbe984"
   },
   "outputs": [
    {
     "data": {
      "text/plain": [
       "['insurance',\n",
       " 'labour_&_service',\n",
       " 'civil',\n",
       " 'domestic_violence',\n",
       " 'bankruptcy_/_insolvency',\n",
       " 'family',\n",
       " 'consumer_court']"
      ]
     },
     "execution_count": 35,
     "metadata": {},
     "output_type": "execute_result"
    }
   ],
   "source": [
    "get_random(7)\n"
   ]
  },
  {
   "cell_type": "code",
   "execution_count": null,
   "metadata": {},
   "outputs": [],
   "source": []
  },
  {
   "cell_type": "code",
   "execution_count": 36,
   "metadata": {
    "id": "geqHYfNCaKZz"
   },
   "outputs": [],
   "source": [
    "import pandas as pd\n",
    "import json\n",
    "import numpy as np\n",
    "n_features = 5\n",
    "df = pd.DataFrame([])\n",
    "for f in file_names:\n",
    "  with open(f) as user_file:\n",
    "    file_contents = user_file.read()\n",
    "    try:\n",
    "      parsed_json = json.loads(file_contents)\n",
    "    except:\n",
    "      parsed_json = {}\n",
    "    for advoc in parsed_json:\n",
    "      name = fetch_name(advoc['name'])\n",
    "      loc = fetch_location(advoc['location'])\n",
    "      exp = fetch_experience(advoc['experience'])\n",
    "      practice_ar = fetch_practice_ar(advoc['Practice_Area'])\n",
    "      practice_ar = get_random(n_features) #Pick number of attributes\n",
    "      ratings = fetch_ratings(advoc['Rating'])\n",
    "      try:\n",
    "        if len(df) == 0:\n",
    "          col_names = ['Name', 'Experience', 'Location', 'Ratings']\n",
    "          for i in range(len(practice_ar)):\n",
    "            n = 'Ar_{}'.format(i+1)\n",
    "            col_names.append(n)\n",
    "          df = pd.DataFrame(columns=col_names)\n",
    "\n",
    "        dic = {'Name':name, 'Experience':exp, 'Location':loc, 'Ratings':ratings}\n",
    "        for i in range(len(practice_ar)):\n",
    "          n = 'Ar_{}'.format(i+1)\n",
    "          dic[n] = practice_ar[i]\n",
    "        new_record = pd.DataFrame([dic])\n",
    "        df = pd.concat([df, new_record], ignore_index=True)\n",
    "      except:\n",
    "        pass\n"
   ]
  },
  {
   "cell_type": "code",
   "execution_count": 37,
   "metadata": {
    "colab": {
     "base_uri": "https://localhost:8080/"
    },
    "id": "85Bzd0gsLL0Y",
    "outputId": "00c4d9ce-5214-4402-e0e4-e2a597584475"
   },
   "outputs": [
    {
     "data": {
      "text/plain": [
       "['criminal', 'divorce', 'family']"
      ]
     },
     "execution_count": 37,
     "metadata": {},
     "output_type": "execute_result"
    }
   ],
   "source": [
    "fetch_practice_ar(advoc['Practice_Area'])"
   ]
  },
  {
   "cell_type": "code",
   "execution_count": 38,
   "metadata": {
    "colab": {
     "base_uri": "https://localhost:8080/",
     "height": 600
    },
    "id": "AksFGs2koC5j",
    "outputId": "7675de7f-ef53-4fbf-b0b6-2674ea8195fc"
   },
   "outputs": [
    {
     "data": {
      "text/html": [
       "<div>\n",
       "<style scoped>\n",
       "    .dataframe tbody tr th:only-of-type {\n",
       "        vertical-align: middle;\n",
       "    }\n",
       "\n",
       "    .dataframe tbody tr th {\n",
       "        vertical-align: top;\n",
       "    }\n",
       "\n",
       "    .dataframe thead th {\n",
       "        text-align: right;\n",
       "    }\n",
       "</style>\n",
       "<table border=\"1\" class=\"dataframe\">\n",
       "  <thead>\n",
       "    <tr style=\"text-align: right;\">\n",
       "      <th></th>\n",
       "      <th>Name</th>\n",
       "      <th>Experience</th>\n",
       "      <th>Location</th>\n",
       "      <th>Ratings</th>\n",
       "      <th>Ar_1</th>\n",
       "      <th>Ar_2</th>\n",
       "      <th>Ar_3</th>\n",
       "      <th>Ar_4</th>\n",
       "      <th>Ar_5</th>\n",
       "    </tr>\n",
       "  </thead>\n",
       "  <tbody>\n",
       "    <tr>\n",
       "      <th>0</th>\n",
       "      <td>Dilip Kumar</td>\n",
       "      <td>23</td>\n",
       "      <td>Muzaffarpur</td>\n",
       "      <td>5.0</td>\n",
       "      <td>corporate</td>\n",
       "      <td>medical_negligence</td>\n",
       "      <td>consumer_court</td>\n",
       "      <td>civil</td>\n",
       "      <td>wills_/_trusts</td>\n",
       "    </tr>\n",
       "    <tr>\n",
       "      <th>1</th>\n",
       "      <td>Yatish Kumar Goel</td>\n",
       "      <td>11</td>\n",
       "      <td>Gurgaon</td>\n",
       "      <td>5.0</td>\n",
       "      <td>court_marriage</td>\n",
       "      <td>supreme_court</td>\n",
       "      <td>startup</td>\n",
       "      <td>r.t.i</td>\n",
       "      <td>arbitration</td>\n",
       "    </tr>\n",
       "    <tr>\n",
       "      <th>2</th>\n",
       "      <td>Arpana Kumari</td>\n",
       "      <td>13</td>\n",
       "      <td>Delhi</td>\n",
       "      <td>4.5</td>\n",
       "      <td>property</td>\n",
       "      <td>landlord/tenant</td>\n",
       "      <td>anticipatory_bail</td>\n",
       "      <td>labour_&amp;_service</td>\n",
       "      <td>customs_&amp;_central_excise</td>\n",
       "    </tr>\n",
       "    <tr>\n",
       "      <th>3</th>\n",
       "      <td>Pankaj Navlani</td>\n",
       "      <td>15</td>\n",
       "      <td>Nagpur</td>\n",
       "      <td>4.0</td>\n",
       "      <td>divorce</td>\n",
       "      <td>international_law</td>\n",
       "      <td>domestic_violence</td>\n",
       "      <td>wills_/_trusts</td>\n",
       "      <td>cyber_crime</td>\n",
       "    </tr>\n",
       "    <tr>\n",
       "      <th>4</th>\n",
       "      <td>Rahul Kumar Singh</td>\n",
       "      <td>10</td>\n",
       "      <td>Delhi</td>\n",
       "      <td>5.0</td>\n",
       "      <td>succession_certificate</td>\n",
       "      <td>family</td>\n",
       "      <td>motor_accident</td>\n",
       "      <td>child_custody</td>\n",
       "      <td>r.t.i</td>\n",
       "    </tr>\n",
       "    <tr>\n",
       "      <th>...</th>\n",
       "      <td>...</td>\n",
       "      <td>...</td>\n",
       "      <td>...</td>\n",
       "      <td>...</td>\n",
       "      <td>...</td>\n",
       "      <td>...</td>\n",
       "      <td>...</td>\n",
       "      <td>...</td>\n",
       "      <td>...</td>\n",
       "    </tr>\n",
       "    <tr>\n",
       "      <th>11441</th>\n",
       "      <td>Devinder Chowdhury</td>\n",
       "      <td>19</td>\n",
       "      <td>Delhi</td>\n",
       "      <td>5.0</td>\n",
       "      <td>documentation</td>\n",
       "      <td>media_and_entertainment</td>\n",
       "      <td>trademark_&amp;_copyright</td>\n",
       "      <td>breach_of_contract</td>\n",
       "      <td>cyber_crime</td>\n",
       "    </tr>\n",
       "    <tr>\n",
       "      <th>11442</th>\n",
       "      <td>Anil Yadav</td>\n",
       "      <td>36</td>\n",
       "      <td>Gurgaon</td>\n",
       "      <td>5.0</td>\n",
       "      <td>labour_&amp;_service</td>\n",
       "      <td>customs_&amp;_central_excise</td>\n",
       "      <td>media_and_entertainment</td>\n",
       "      <td>court_marriage</td>\n",
       "      <td>recovery</td>\n",
       "    </tr>\n",
       "    <tr>\n",
       "      <th>11443</th>\n",
       "      <td>Aftabhusen A Ansari</td>\n",
       "      <td>17</td>\n",
       "      <td>Ahmedabad</td>\n",
       "      <td>4.3</td>\n",
       "      <td>arbitration</td>\n",
       "      <td>gst</td>\n",
       "      <td>armed_forces_tribunal</td>\n",
       "      <td>consumer_court</td>\n",
       "      <td>labour_&amp;_service</td>\n",
       "    </tr>\n",
       "    <tr>\n",
       "      <th>11444</th>\n",
       "      <td>Ashish Kumar Bembey</td>\n",
       "      <td>22</td>\n",
       "      <td>Jalandhar</td>\n",
       "      <td>5.0</td>\n",
       "      <td>gst</td>\n",
       "      <td>wills_/_trusts</td>\n",
       "      <td>labour_&amp;_service</td>\n",
       "      <td>patent</td>\n",
       "      <td>media_and_entertainment</td>\n",
       "    </tr>\n",
       "    <tr>\n",
       "      <th>11445</th>\n",
       "      <td>Servedaman Rathore</td>\n",
       "      <td>11</td>\n",
       "      <td>Shimla</td>\n",
       "      <td>5.0</td>\n",
       "      <td>property</td>\n",
       "      <td>medical_negligence</td>\n",
       "      <td>armed_forces_tribunal</td>\n",
       "      <td>criminal</td>\n",
       "      <td>nclt</td>\n",
       "    </tr>\n",
       "  </tbody>\n",
       "</table>\n",
       "<p>11446 rows × 9 columns</p>\n",
       "</div>"
      ],
      "text/plain": [
       "                      Name Experience     Location  Ratings  \\\n",
       "0              Dilip Kumar         23  Muzaffarpur      5.0   \n",
       "1        Yatish Kumar Goel         11      Gurgaon      5.0   \n",
       "2            Arpana Kumari         13        Delhi      4.5   \n",
       "3           Pankaj Navlani         15       Nagpur      4.0   \n",
       "4        Rahul Kumar Singh         10        Delhi      5.0   \n",
       "...                    ...        ...          ...      ...   \n",
       "11441   Devinder Chowdhury         19        Delhi      5.0   \n",
       "11442           Anil Yadav         36      Gurgaon      5.0   \n",
       "11443  Aftabhusen A Ansari         17    Ahmedabad      4.3   \n",
       "11444  Ashish Kumar Bembey         22    Jalandhar      5.0   \n",
       "11445   Servedaman Rathore         11       Shimla      5.0   \n",
       "\n",
       "                         Ar_1                      Ar_2  \\\n",
       "0                   corporate        medical_negligence   \n",
       "1              court_marriage             supreme_court   \n",
       "2                    property           landlord/tenant   \n",
       "3                     divorce         international_law   \n",
       "4      succession_certificate                    family   \n",
       "...                       ...                       ...   \n",
       "11441           documentation   media_and_entertainment   \n",
       "11442        labour_&_service  customs_&_central_excise   \n",
       "11443             arbitration                       gst   \n",
       "11444                     gst            wills_/_trusts   \n",
       "11445                property        medical_negligence   \n",
       "\n",
       "                          Ar_3                Ar_4                      Ar_5  \n",
       "0               consumer_court               civil            wills_/_trusts  \n",
       "1                      startup               r.t.i               arbitration  \n",
       "2            anticipatory_bail    labour_&_service  customs_&_central_excise  \n",
       "3            domestic_violence      wills_/_trusts               cyber_crime  \n",
       "4               motor_accident       child_custody                     r.t.i  \n",
       "...                        ...                 ...                       ...  \n",
       "11441    trademark_&_copyright  breach_of_contract               cyber_crime  \n",
       "11442  media_and_entertainment      court_marriage                  recovery  \n",
       "11443    armed_forces_tribunal      consumer_court          labour_&_service  \n",
       "11444         labour_&_service              patent   media_and_entertainment  \n",
       "11445    armed_forces_tribunal            criminal                      nclt  \n",
       "\n",
       "[11446 rows x 9 columns]"
      ]
     },
     "execution_count": 38,
     "metadata": {},
     "output_type": "execute_result"
    }
   ],
   "source": [
    "df"
   ]
  },
  {
   "cell_type": "code",
   "execution_count": 39,
   "metadata": {
    "colab": {
     "base_uri": "https://localhost:8080/"
    },
    "id": "waDY4qpogXF8",
    "outputId": "5b5a1403-202a-4ac9-a5ee-a1575ae19474"
   },
   "outputs": [
    {
     "data": {
      "text/plain": [
       "Name          0\n",
       "Experience    0\n",
       "Location      0\n",
       "Ratings       0\n",
       "Ar_1          0\n",
       "Ar_2          0\n",
       "Ar_3          0\n",
       "Ar_4          0\n",
       "Ar_5          0\n",
       "dtype: int64"
      ]
     },
     "execution_count": 39,
     "metadata": {},
     "output_type": "execute_result"
    }
   ],
   "source": [
    "df = df.dropna()\n",
    "df.isna().sum()"
   ]
  },
  {
   "cell_type": "code",
   "execution_count": 40,
   "metadata": {
    "colab": {
     "base_uri": "https://localhost:8080/",
     "height": 149
    },
    "id": "LT0fHHa83WqH",
    "outputId": "46ac91cd-8202-4f85-e71f-7fe51a34a7ee"
   },
   "outputs": [
    {
     "data": {
      "text/html": [
       "<div>\n",
       "<style scoped>\n",
       "    .dataframe tbody tr th:only-of-type {\n",
       "        vertical-align: middle;\n",
       "    }\n",
       "\n",
       "    .dataframe tbody tr th {\n",
       "        vertical-align: top;\n",
       "    }\n",
       "\n",
       "    .dataframe thead th {\n",
       "        text-align: right;\n",
       "    }\n",
       "</style>\n",
       "<table border=\"1\" class=\"dataframe\">\n",
       "  <thead>\n",
       "    <tr style=\"text-align: right;\">\n",
       "      <th></th>\n",
       "      <th>Name</th>\n",
       "      <th>Experience</th>\n",
       "      <th>Location</th>\n",
       "      <th>Ratings</th>\n",
       "      <th>Ar_1</th>\n",
       "      <th>Ar_2</th>\n",
       "      <th>Ar_3</th>\n",
       "      <th>Ar_4</th>\n",
       "      <th>Ar_5</th>\n",
       "    </tr>\n",
       "  </thead>\n",
       "  <tbody>\n",
       "    <tr>\n",
       "      <th>0</th>\n",
       "      <td>Dilip Kumar</td>\n",
       "      <td>23</td>\n",
       "      <td>Muzaffarpur</td>\n",
       "      <td>5.0</td>\n",
       "      <td>corporate</td>\n",
       "      <td>medical_negligence</td>\n",
       "      <td>consumer_court</td>\n",
       "      <td>civil</td>\n",
       "      <td>wills_/_trusts</td>\n",
       "    </tr>\n",
       "    <tr>\n",
       "      <th>1</th>\n",
       "      <td>Yatish Kumar Goel</td>\n",
       "      <td>11</td>\n",
       "      <td>Gurgaon</td>\n",
       "      <td>5.0</td>\n",
       "      <td>court_marriage</td>\n",
       "      <td>supreme_court</td>\n",
       "      <td>startup</td>\n",
       "      <td>r.t.i</td>\n",
       "      <td>arbitration</td>\n",
       "    </tr>\n",
       "  </tbody>\n",
       "</table>\n",
       "</div>"
      ],
      "text/plain": [
       "                Name Experience     Location  Ratings            Ar_1  \\\n",
       "0        Dilip Kumar         23  Muzaffarpur      5.0       corporate   \n",
       "1  Yatish Kumar Goel         11      Gurgaon      5.0  court_marriage   \n",
       "\n",
       "                 Ar_2            Ar_3   Ar_4            Ar_5  \n",
       "0  medical_negligence  consumer_court  civil  wills_/_trusts  \n",
       "1       supreme_court         startup  r.t.i     arbitration  "
      ]
     },
     "execution_count": 40,
     "metadata": {},
     "output_type": "execute_result"
    }
   ],
   "source": [
    "df.head(2)"
   ]
  },
  {
   "cell_type": "code",
   "execution_count": 41,
   "metadata": {
    "colab": {
     "base_uri": "https://localhost:8080/",
     "height": 201
    },
    "id": "EgTuFxZz--9u",
    "outputId": "ccaac175-4347-4fc7-e91d-1de3e33aa288"
   },
   "outputs": [
    {
     "data": {
      "text/html": [
       "<div>\n",
       "<style scoped>\n",
       "    .dataframe tbody tr th:only-of-type {\n",
       "        vertical-align: middle;\n",
       "    }\n",
       "\n",
       "    .dataframe tbody tr th {\n",
       "        vertical-align: top;\n",
       "    }\n",
       "\n",
       "    .dataframe thead th {\n",
       "        text-align: right;\n",
       "    }\n",
       "</style>\n",
       "<table border=\"1\" class=\"dataframe\">\n",
       "  <thead>\n",
       "    <tr style=\"text-align: right;\">\n",
       "      <th></th>\n",
       "      <th>Name</th>\n",
       "      <th>Experience</th>\n",
       "      <th>Location</th>\n",
       "      <th>Ratings</th>\n",
       "      <th>Ar_1</th>\n",
       "      <th>Ar_2</th>\n",
       "      <th>Ar_3</th>\n",
       "      <th>Ar_4</th>\n",
       "      <th>Ar_5</th>\n",
       "      <th>comb</th>\n",
       "    </tr>\n",
       "  </thead>\n",
       "  <tbody>\n",
       "    <tr>\n",
       "      <th>0</th>\n",
       "      <td>Dilip Kumar</td>\n",
       "      <td>23</td>\n",
       "      <td>Muzaffarpur</td>\n",
       "      <td>5.0</td>\n",
       "      <td>corporate</td>\n",
       "      <td>medical_negligence</td>\n",
       "      <td>consumer_court</td>\n",
       "      <td>civil</td>\n",
       "      <td>wills_/_trusts</td>\n",
       "      <td>corporate medical_negligence consumer_court ci...</td>\n",
       "    </tr>\n",
       "    <tr>\n",
       "      <th>1</th>\n",
       "      <td>Yatish Kumar Goel</td>\n",
       "      <td>11</td>\n",
       "      <td>Gurgaon</td>\n",
       "      <td>5.0</td>\n",
       "      <td>court_marriage</td>\n",
       "      <td>supreme_court</td>\n",
       "      <td>startup</td>\n",
       "      <td>r.t.i</td>\n",
       "      <td>arbitration</td>\n",
       "      <td>court_marriage supreme_court startup r.t.i arb...</td>\n",
       "    </tr>\n",
       "  </tbody>\n",
       "</table>\n",
       "</div>"
      ],
      "text/plain": [
       "                Name Experience     Location  Ratings            Ar_1  \\\n",
       "0        Dilip Kumar         23  Muzaffarpur      5.0       corporate   \n",
       "1  Yatish Kumar Goel         11      Gurgaon      5.0  court_marriage   \n",
       "\n",
       "                 Ar_2            Ar_3   Ar_4            Ar_5  \\\n",
       "0  medical_negligence  consumer_court  civil  wills_/_trusts   \n",
       "1       supreme_court         startup  r.t.i     arbitration   \n",
       "\n",
       "                                                comb  \n",
       "0  corporate medical_negligence consumer_court ci...  \n",
       "1  court_marriage supreme_court startup r.t.i arb...  "
      ]
     },
     "execution_count": 41,
     "metadata": {},
     "output_type": "execute_result"
    }
   ],
   "source": [
    "df['comb'] = df[df.columns[4:]].apply(lambda x: ' '.join(x.dropna().astype(str)),axis=1)\n",
    "df.head(2)"
   ]
  },
  {
   "cell_type": "code",
   "execution_count": 42,
   "metadata": {
    "id": "wTpl_4Yc4B_X"
   },
   "outputs": [],
   "source": [
    "from sklearn.feature_extraction.text import CountVectorizer\n",
    "from sklearn.metrics.pairwise import cosine_similarity\n",
    "\n",
    "def create_similarity(data):\n",
    "  # creating a count matrix\n",
    "  cv = CountVectorizer()\n",
    "  count_matrix = cv.fit_transform(data['comb'])\n",
    "  # creating a similarity score matrix\n",
    "  similarity = cosine_similarity(count_matrix)\n",
    "  return data,similarity\n",
    "\n",
    "df, similarity = create_similarity(df)"
   ]
  },
  {
   "cell_type": "code",
   "execution_count": 43,
   "metadata": {
    "id": "lNl97_oO6Fyu"
   },
   "outputs": [],
   "source": [
    "def rcmd(data,similarity,m):\n",
    "  i = data.loc[data['Name']==m].index[0]\n",
    "  lst = list(enumerate(similarity[i]))\n",
    "  lst = sorted(lst, key = lambda x:x[1] ,reverse=True)\n",
    "  lst = lst[1:11] # excluding first item since it is the requested movie itself\n",
    "  l = []\n",
    "\n",
    "  for i in range(len(lst)):\n",
    "      a = lst[i][0]\n",
    "      l.append(data['Name'][a])\n",
    "  return l"
   ]
  },
  {
   "cell_type": "code",
   "execution_count": 44,
   "metadata": {
    "colab": {
     "base_uri": "https://localhost:8080/"
    },
    "id": "rUsymm529QzH",
    "outputId": "453aa960-f6ed-475c-85d8-252a470371c1"
   },
   "outputs": [
    {
     "data": {
      "text/plain": [
       "['Sameer Jain',\n",
       " 'Pulkit Agarwal',\n",
       " 'Hemant Pandey',\n",
       " 'Sunny Agrawal',\n",
       " 'Arun Kumar Saha',\n",
       " 'Srinivas Gundeti',\n",
       " 'H V B R K Dora',\n",
       " 'Smriti Khurana',\n",
       " 'Sarika Soam',\n",
       " 'Rupali Awati']"
      ]
     },
     "execution_count": 44,
     "metadata": {},
     "output_type": "execute_result"
    }
   ],
   "source": [
    "ls = rcmd(df,similarity,'Sivakumar Thiyagarajan')\n",
    "ls"
   ]
  },
  {
   "cell_type": "code",
   "execution_count": 45,
   "metadata": {
    "colab": {
     "base_uri": "https://localhost:8080/",
     "height": 153
    },
    "id": "JfYb9sBsIJ7s",
    "outputId": "245eedf0-1b6b-418b-abe0-63a306263e80"
   },
   "outputs": [
    {
     "data": {
      "text/html": [
       "<div>\n",
       "<style scoped>\n",
       "    .dataframe tbody tr th:only-of-type {\n",
       "        vertical-align: middle;\n",
       "    }\n",
       "\n",
       "    .dataframe tbody tr th {\n",
       "        vertical-align: top;\n",
       "    }\n",
       "\n",
       "    .dataframe thead th {\n",
       "        text-align: right;\n",
       "    }\n",
       "</style>\n",
       "<table border=\"1\" class=\"dataframe\">\n",
       "  <thead>\n",
       "    <tr style=\"text-align: right;\">\n",
       "      <th></th>\n",
       "      <th>Name</th>\n",
       "      <th>Experience</th>\n",
       "      <th>Location</th>\n",
       "      <th>Ratings</th>\n",
       "      <th>Ar_1</th>\n",
       "      <th>Ar_2</th>\n",
       "      <th>Ar_3</th>\n",
       "      <th>Ar_4</th>\n",
       "      <th>Ar_5</th>\n",
       "      <th>comb</th>\n",
       "    </tr>\n",
       "  </thead>\n",
       "  <tbody>\n",
       "    <tr>\n",
       "      <th>4800</th>\n",
       "      <td>Sivakumar Thiyagarajan</td>\n",
       "      <td>17</td>\n",
       "      <td>Cuddalore</td>\n",
       "      <td>4.0</td>\n",
       "      <td>muslim_law</td>\n",
       "      <td>property</td>\n",
       "      <td>anticipatory_bail</td>\n",
       "      <td>nclt</td>\n",
       "      <td>armed_forces_tribunal</td>\n",
       "      <td>muslim_law property anticipatory_bail nclt arm...</td>\n",
       "    </tr>\n",
       "  </tbody>\n",
       "</table>\n",
       "</div>"
      ],
      "text/plain": [
       "                        Name Experience   Location  Ratings        Ar_1  \\\n",
       "4800  Sivakumar Thiyagarajan         17  Cuddalore      4.0  muslim_law   \n",
       "\n",
       "          Ar_2               Ar_3  Ar_4                   Ar_5  \\\n",
       "4800  property  anticipatory_bail  nclt  armed_forces_tribunal   \n",
       "\n",
       "                                                   comb  \n",
       "4800  muslim_law property anticipatory_bail nclt arm...  "
      ]
     },
     "execution_count": 45,
     "metadata": {},
     "output_type": "execute_result"
    }
   ],
   "source": [
    "df[df['Name'] == 'Sivakumar Thiyagarajan']"
   ]
  },
  {
   "cell_type": "code",
   "execution_count": 46,
   "metadata": {
    "colab": {
     "base_uri": "https://localhost:8080/",
     "height": 135
    },
    "id": "sam45qtH6FRl",
    "outputId": "172aa367-a230-40cb-b938-40ff2d99b408"
   },
   "outputs": [
    {
     "data": {
      "text/html": [
       "<div>\n",
       "<style scoped>\n",
       "    .dataframe tbody tr th:only-of-type {\n",
       "        vertical-align: middle;\n",
       "    }\n",
       "\n",
       "    .dataframe tbody tr th {\n",
       "        vertical-align: top;\n",
       "    }\n",
       "\n",
       "    .dataframe thead th {\n",
       "        text-align: right;\n",
       "    }\n",
       "</style>\n",
       "<table border=\"1\" class=\"dataframe\">\n",
       "  <thead>\n",
       "    <tr style=\"text-align: right;\">\n",
       "      <th></th>\n",
       "      <th>Name</th>\n",
       "      <th>Experience</th>\n",
       "      <th>Location</th>\n",
       "      <th>Ratings</th>\n",
       "      <th>Ar_1</th>\n",
       "      <th>Ar_2</th>\n",
       "      <th>Ar_3</th>\n",
       "      <th>Ar_4</th>\n",
       "      <th>Ar_5</th>\n",
       "      <th>comb</th>\n",
       "    </tr>\n",
       "  </thead>\n",
       "  <tbody>\n",
       "    <tr>\n",
       "      <th>3498</th>\n",
       "      <td>Kuntal Ghosh</td>\n",
       "      <td>1</td>\n",
       "      <td>Agartala</td>\n",
       "      <td>4.0</td>\n",
       "      <td>court_marriage</td>\n",
       "      <td>international_law</td>\n",
       "      <td>bankruptcy_/_insolvency</td>\n",
       "      <td>customs_&amp;_central_excise</td>\n",
       "      <td>banking_/_finance</td>\n",
       "      <td>court_marriage international_law bankruptcy_/_...</td>\n",
       "    </tr>\n",
       "  </tbody>\n",
       "</table>\n",
       "</div>"
      ],
      "text/plain": [
       "              Name Experience  Location  Ratings            Ar_1  \\\n",
       "3498  Kuntal Ghosh          1  Agartala      4.0  court_marriage   \n",
       "\n",
       "                   Ar_2                     Ar_3                      Ar_4  \\\n",
       "3498  international_law  bankruptcy_/_insolvency  customs_&_central_excise   \n",
       "\n",
       "                   Ar_5                                               comb  \n",
       "3498  banking_/_finance  court_marriage international_law bankruptcy_/_...  "
      ]
     },
     "execution_count": 46,
     "metadata": {},
     "output_type": "execute_result"
    }
   ],
   "source": [
    "df[df['Name'] == 'Kuntal Ghosh']"
   ]
  },
  {
   "cell_type": "code",
   "execution_count": 47,
   "metadata": {
    "id": "jGRx0v_FRMjc"
   },
   "outputs": [],
   "source": [
    "import pickle"
   ]
  },
  {
   "cell_type": "code",
   "execution_count": 48,
   "metadata": {},
   "outputs": [],
   "source": [
    "pickle.dump(df.to_dict(),open('movies_dict.pkl','wb'))"
   ]
  },
  {
   "cell_type": "code",
   "execution_count": 49,
   "metadata": {},
   "outputs": [],
   "source": [
    "pickle.dump(similarity,open('similarity.pkl','wb'))"
   ]
  },
  {
   "cell_type": "code",
   "execution_count": null,
   "metadata": {},
   "outputs": [],
   "source": []
  }
 ],
 "metadata": {
  "accelerator": "TPU",
  "colab": {
   "provenance": []
  },
  "kernelspec": {
   "display_name": "Python 3 (ipykernel)",
   "language": "python",
   "name": "python3"
  },
  "language_info": {
   "codemirror_mode": {
    "name": "ipython",
    "version": 3
   },
   "file_extension": ".py",
   "mimetype": "text/x-python",
   "name": "python",
   "nbconvert_exporter": "python",
   "pygments_lexer": "ipython3",
   "version": "3.10.9"
  }
 },
 "nbformat": 4,
 "nbformat_minor": 1
}
